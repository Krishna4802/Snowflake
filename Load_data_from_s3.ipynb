{
 "cells": [
  {
   "cell_type": "code",
   "execution_count": 40,
   "metadata": {},
   "outputs": [
    {
     "name": "stdout",
     "output_type": "stream",
     "text": [
      "Collecting pymupdf\n",
      "  Obtaining dependency information for pymupdf from https://files.pythonhosted.org/packages/e3/65/1bb8e3e39f2eb233819ba9119fffc2fb8a947e0a81ed7a3d5336f7182ca1/PyMuPDF-1.24.8-cp311-none-macosx_11_0_arm64.whl.metadata\n",
      "  Downloading PyMuPDF-1.24.8-cp311-none-macosx_11_0_arm64.whl.metadata (3.4 kB)\n",
      "Collecting PyMuPDFb==1.24.8 (from pymupdf)\n",
      "  Obtaining dependency information for PyMuPDFb==1.24.8 from https://files.pythonhosted.org/packages/e9/cd/446d9bd190b79d18c92363f572bd45a13abd442ef63cb3578414b3bbc510/PyMuPDFb-1.24.8-py3-none-macosx_11_0_arm64.whl.metadata\n",
      "  Downloading PyMuPDFb-1.24.8-py3-none-macosx_11_0_arm64.whl.metadata (1.4 kB)\n",
      "Downloading PyMuPDF-1.24.8-cp311-none-macosx_11_0_arm64.whl (3.0 MB)\n",
      "\u001b[2K   \u001b[90m━━━━━━━━━━━━━━━━━━━━━━━━━━━━━━━━━━━━━━━━\u001b[0m \u001b[32m3.0/3.0 MB\u001b[0m \u001b[31m2.3 MB/s\u001b[0m eta \u001b[36m0:00:00\u001b[0ma \u001b[36m0:00:01\u001b[0m0m\n",
      "\u001b[?25hDownloading PyMuPDFb-1.24.8-py3-none-macosx_11_0_arm64.whl (14.9 MB)\n",
      "\u001b[2K   \u001b[90m━━━━━━━━━━━━━━━━━━━━━━━━━━━━━━━━━━━━━━━━\u001b[0m \u001b[32m14.9/14.9 MB\u001b[0m \u001b[31m8.2 MB/s\u001b[0m eta \u001b[36m0:00:00\u001b[0m00:01\u001b[0m00:01\u001b[0m\n",
      "\u001b[?25hInstalling collected packages: PyMuPDFb, pymupdf\n",
      "Successfully installed PyMuPDFb-1.24.8 pymupdf-1.24.8\n",
      "\n",
      "\u001b[1m[\u001b[0m\u001b[34;49mnotice\u001b[0m\u001b[1;39;49m]\u001b[0m\u001b[39;49m A new release of pip is available: \u001b[0m\u001b[31;49m23.2.1\u001b[0m\u001b[39;49m -> \u001b[0m\u001b[32;49m24.1.2\u001b[0m\n",
      "\u001b[1m[\u001b[0m\u001b[34;49mnotice\u001b[0m\u001b[1;39;49m]\u001b[0m\u001b[39;49m To update, run: \u001b[0m\u001b[32;49mpip install --upgrade pip\u001b[0m\n"
     ]
    }
   ],
   "source": [
    "!pip install pymupdf"
   ]
  },
  {
   "cell_type": "code",
   "execution_count": 41,
   "metadata": {},
   "outputs": [
    {
     "name": "stdout",
     "output_type": "stream",
     "text": [
      "Data inserted successfully into Snowflake.\n"
     ]
    }
   ],
   "source": [
    "import snowflake.connector\n",
    "import boto3\n",
    "from botocore.exceptions import ClientError\n",
    "from datetime import datetime\n",
    "import fitz  # PyMuPDF\n",
    "\n",
    "# Snowflake connection parameters\n",
    "snowflake_account = 'oytvmyv-as20412'\n",
    "snowflake_user = 'AKSHAY'\n",
    "snowflake_password = 'Srini@1406'\n",
    "snowflake_database = 'unstructured'\n",
    "snowflake_schema = 'unstructured'\n",
    "snowflake_table = 'pdf_text_data'\n",
    "\n",
    "# AWS S3 parameters\n",
    "aws_access_key_id = ''\n",
    "aws_secret_access_key = ''\n",
    "s3_bucket_name = 'snowflakebucket16789'\n",
    "file_key = 'Get_Started_With_Smallpdf.pdf'\n",
    "\n",
    "# Initialize Snowflake connection\n",
    "conn = snowflake.connector.connect(\n",
    "    user=snowflake_user,\n",
    "    password=snowflake_password,\n",
    "    account=snowflake_account,\n",
    "    database=snowflake_database,\n",
    "    schema=snowflake_schema\n",
    ")\n",
    "\n",
    "# Initialize S3 client\n",
    "s3 = boto3.client(\n",
    "    's3',\n",
    "    aws_access_key_id=aws_access_key_id,\n",
    "    aws_secret_access_key=aws_secret_access_key\n",
    ")\n",
    "\n",
    "try:\n",
    "    # Download file from S3 as binary\n",
    "    response = s3.get_object(Bucket=s3_bucket_name, Key=file_key)\n",
    "    file_content = response['Body'].read()  # Read as binary data\n",
    "\n",
    "    # Save the file locally\n",
    "    with open('/tmp/temp_pdf.pdf', 'wb') as f:\n",
    "        f.write(file_content)\n",
    "\n",
    "    # Extract text from PDF\n",
    "    pdf_document = fitz.open('/tmp/temp_pdf.pdf')\n",
    "    text_content = \"\"\n",
    "    for page in pdf_document:\n",
    "        text_content += page.get_text()\n",
    "    pdf_document.close()\n",
    "\n",
    "    # Prepare Snowflake INSERT statement\n",
    "    insert_stmt = f\"INSERT INTO {snowflake_table} (filename, text, upload_date) VALUES (%s, %s, %s)\"\n",
    "\n",
    "    # Execute INSERT statement\n",
    "    with conn.cursor() as cursor:\n",
    "        cursor.execute(insert_stmt, (file_key, text_content, datetime.utcnow()))\n",
    "\n",
    "    conn.commit()\n",
    "    print(\"Data inserted successfully into Snowflake.\")\n",
    "\n",
    "except ClientError as e:\n",
    "    print(f\"Error: {e.response['Error']['Message']}\")\n",
    "\n",
    "finally:\n",
    "    conn.close()\n",
    "\n"
   ]
  }
 ],
 "metadata": {
  "kernelspec": {
   "display_name": "Python 3",
   "language": "python",
   "name": "python3"
  },
  "language_info": {
   "codemirror_mode": {
    "name": "ipython",
    "version": 3
   },
   "file_extension": ".py",
   "mimetype": "text/x-python",
   "name": "python",
   "nbconvert_exporter": "python",
   "pygments_lexer": "ipython3",
   "version": "3.11.4"
  }
 },
 "nbformat": 4,
 "nbformat_minor": 2
}
